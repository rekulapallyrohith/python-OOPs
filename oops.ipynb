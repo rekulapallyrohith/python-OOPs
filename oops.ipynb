{
 "cells": [
  {
   "cell_type": "markdown",
   "id": "acccefad",
   "metadata": {},
   "source": [
    "Object Oriented Programming\n"
   ]
  },
  {
   "cell_type": "markdown",
   "id": "1902e514",
   "metadata": {},
   "source": [
    "what is an object?\n",
    "object is an real world entity\n",
    "\n",
    "Object: Car\n",
    "    - Capabilities:\n",
    "           - start\n",
    "           - stop\n",
    "           - drive\n",
    "    - contents:\n",
    "           - engine\n",
    "           - tyres\n",
    "           - seats\n",
    "    "
   ]
  },
  {
   "cell_type": "markdown",
   "id": "8787caa3",
   "metadata": {},
   "source": [
    "grocery store\n",
    "\n",
    "usecase: \n",
    "   - sales\n",
    "   - procurement\n",
    "\n",
    "objects: grocery store\n",
    "    - products\n",
    "    - users\n",
    "    - inventory\n",
    "    - sale\n",
    "    - bill\n",
    "    "
   ]
  },
  {
   "cell_type": "markdown",
   "id": "4961c5eb",
   "metadata": {},
   "source": [
    "capabilities  == methods\n",
    "contents == members"
   ]
  },
  {
   "cell_type": "code",
   "execution_count": 42,
   "id": "e8ee4975",
   "metadata": {},
   "outputs": [],
   "source": [
    "class BankAccount:\n",
    "    pass"
   ]
  },
  {
   "cell_type": "code",
   "execution_count": 43,
   "id": "7769ee7b",
   "metadata": {},
   "outputs": [],
   "source": [
    "b1 = BankAccount()\n",
    "b2 = BankAccount()"
   ]
  },
  {
   "cell_type": "code",
   "execution_count": 44,
   "id": "8ddedea5",
   "metadata": {},
   "outputs": [],
   "source": [
    "# Initialization\n",
    "class BankAccount:\n",
    "    def __init__(self):\n",
    "        pass"
   ]
  },
  {
   "cell_type": "code",
   "execution_count": 45,
   "id": "8951ec8c",
   "metadata": {},
   "outputs": [],
   "source": [
    "class BankAccount:\n",
    "    def __init__(self):\n",
    "        self.id:str = \"\"\n",
    "        self.balance:float = 0\n",
    "        self.email:str = \"\""
   ]
  },
  {
   "cell_type": "code",
   "execution_count": 46,
   "id": "d94ad494",
   "metadata": {},
   "outputs": [
    {
     "name": "stdout",
     "output_type": "stream",
     "text": [
      "\n"
     ]
    }
   ],
   "source": [
    "b1 = BankAccount()\n",
    "\n",
    "print(b1.id)\n"
   ]
  },
  {
   "cell_type": "code",
   "execution_count": 47,
   "id": "58bc7305",
   "metadata": {},
   "outputs": [
    {
     "name": "stdout",
     "output_type": "stream",
     "text": [
      "0\n"
     ]
    }
   ],
   "source": [
    "print(b1.balance)"
   ]
  },
  {
   "cell_type": "code",
   "execution_count": 48,
   "id": "7a929eae",
   "metadata": {},
   "outputs": [],
   "source": [
    "class BankAccount:\n",
    "    def __init__(self, id:str, balance:float, email:str):\n",
    "        self.id:str = id\n",
    "        self.balance:float = balance\n",
    "        self.email:str = email"
   ]
  },
  {
   "cell_type": "code",
   "execution_count": 49,
   "id": "c61974e4",
   "metadata": {},
   "outputs": [],
   "source": [
    "# Instantiation\n",
    "\n",
    "b1 = BankAccount(\"b1001\",100000,'b1@gmail.com')"
   ]
  },
  {
   "cell_type": "code",
   "execution_count": 50,
   "id": "290322c0",
   "metadata": {},
   "outputs": [
    {
     "data": {
      "text/plain": [
       "'b1001'"
      ]
     },
     "execution_count": 50,
     "metadata": {},
     "output_type": "execute_result"
    }
   ],
   "source": [
    "b1.id"
   ]
  },
  {
   "cell_type": "code",
   "execution_count": 51,
   "id": "591ad82b",
   "metadata": {},
   "outputs": [
    {
     "data": {
      "text/plain": [
       "'b1@gmail.com'"
      ]
     },
     "execution_count": 51,
     "metadata": {},
     "output_type": "execute_result"
    }
   ],
   "source": [
    "b1.email"
   ]
  },
  {
   "cell_type": "code",
   "execution_count": 52,
   "id": "02bcf202",
   "metadata": {},
   "outputs": [
    {
     "data": {
      "text/plain": [
       "100000"
      ]
     },
     "execution_count": 52,
     "metadata": {},
     "output_type": "execute_result"
    }
   ],
   "source": [
    "b1.balance"
   ]
  },
  {
   "cell_type": "code",
   "execution_count": 53,
   "id": "3204a9b5",
   "metadata": {},
   "outputs": [],
   "source": [
    "b2 = BankAccount(\"b1002\", 20000, 'b2@gmail.com')"
   ]
  },
  {
   "cell_type": "code",
   "execution_count": 54,
   "id": "a10412de",
   "metadata": {},
   "outputs": [
    {
     "data": {
      "text/plain": [
       "'b2@gmail.com'"
      ]
     },
     "execution_count": 54,
     "metadata": {},
     "output_type": "execute_result"
    }
   ],
   "source": [
    "b2.email"
   ]
  },
  {
   "cell_type": "markdown",
   "id": "b69311e4",
   "metadata": {},
   "source": [
    "capabilities of BankAccount\n",
    "  - withdraw\n",
    "  - deposit\n",
    "  - transfer\n"
   ]
  },
  {
   "cell_type": "code",
   "execution_count": 55,
   "id": "51f9cfc6",
   "metadata": {},
   "outputs": [],
   "source": [
    "class BankAccount:\n",
    "    def __init__(self, id:str, balance:float, email:str):\n",
    "        self.id:str = id\n",
    "        self.balance:float = balance\n",
    "        self.email:str = email\n",
    "\n",
    "    def deposit(self, amount:float)-> None:\n",
    "        self.balance += amount\n",
    "    def withdraw(self, amount:float)-> None:\n",
    "        self.balance -= amount\n",
    "\n",
    "    def transfer(self, to:BankAccount, amount:float)-> None:\n",
    "        self.balance -= amount\n",
    "        to.balance += amount"
   ]
  },
  {
   "cell_type": "code",
   "execution_count": 56,
   "id": "3720dc59",
   "metadata": {},
   "outputs": [],
   "source": [
    "p1 = BankAccount(id=\"P1001\", balance= 10000, email='p1@gmail.com')\n"
   ]
  },
  {
   "cell_type": "code",
   "execution_count": 57,
   "id": "6686731c",
   "metadata": {},
   "outputs": [],
   "source": [
    "s1 = BankAccount(id=\"S1001\", balance= 150000, email='S1@gmail.com')"
   ]
  },
  {
   "cell_type": "code",
   "execution_count": 58,
   "id": "cadeb999",
   "metadata": {},
   "outputs": [],
   "source": [
    "s1.transfer(to=p1, amount= 5000)"
   ]
  },
  {
   "cell_type": "code",
   "execution_count": 59,
   "id": "d7cf8254",
   "metadata": {},
   "outputs": [
    {
     "data": {
      "text/plain": [
       "15000"
      ]
     },
     "execution_count": 59,
     "metadata": {},
     "output_type": "execute_result"
    }
   ],
   "source": [
    "p1.balance"
   ]
  },
  {
   "cell_type": "code",
   "execution_count": 60,
   "id": "d4eaf95f",
   "metadata": {},
   "outputs": [
    {
     "data": {
      "text/plain": [
       "145000"
      ]
     },
     "execution_count": 60,
     "metadata": {},
     "output_type": "execute_result"
    }
   ],
   "source": [
    "s1.balance"
   ]
  },
  {
   "cell_type": "code",
   "execution_count": null,
   "id": "c8748286",
   "metadata": {},
   "outputs": [],
   "source": []
  },
  {
   "cell_type": "code",
   "execution_count": 62,
   "id": "4ee05884",
   "metadata": {},
   "outputs": [],
   "source": [
    "class BankAccount:\n",
    "    def __init__(self, id:str, balance:float, email:str):\n",
    "        self.id:str = id\n",
    "        self.balance:float = balance\n",
    "        self.email:str = email\n",
    "\n",
    "    def deposit(self, amount:float)-> None:\n",
    "        self.balance += amount\n",
    "    def withdraw(self, amount:float)-> None:\n",
    "        self.balance -= amount\n",
    "    def transfer(self, to:BankAccount, amount:float)-> None:\n",
    "        self.balance -= amount\n",
    "        to.balance += amount"
   ]
  },
  {
   "cell_type": "code",
   "execution_count": 64,
   "id": "5b651eeb",
   "metadata": {},
   "outputs": [],
   "source": [
    "class GameUser:\n",
    "    def __init__(self, username:str, coins:int):\n",
    "        self.username = username\n",
    "        self.coins = coins"
   ]
  },
  {
   "cell_type": "code",
   "execution_count": 65,
   "id": "a5fcbee2",
   "metadata": {},
   "outputs": [],
   "source": [
    "class GameUser:\n",
    "    def __init__(self, username:str, coins:int):\n",
    "        self.username = username\n",
    "        self.coins = coins\n",
    "    def play_game(self):\n",
    "        self.coins += 10\n",
    "    def purchase_coins(self, count:int):\n",
    "        self.coins += count\n",
    "    def lend_coins(self, to:GameUser, count:int):\n",
    "        self.coins -= count\n",
    "        to.coins += count"
   ]
  },
  {
   "cell_type": "code",
   "execution_count": 66,
   "id": "950ade89",
   "metadata": {},
   "outputs": [],
   "source": [
    "u1 = GameUser(username=\"user1\", coins=100)"
   ]
  },
  {
   "cell_type": "code",
   "execution_count": 67,
   "id": "156250e4",
   "metadata": {},
   "outputs": [],
   "source": [
    "u2 = GameUser(username=\"user2\", coins=50)"
   ]
  },
  {
   "cell_type": "code",
   "execution_count": 68,
   "id": "07763831",
   "metadata": {},
   "outputs": [
    {
     "data": {
      "text/plain": [
       "100"
      ]
     },
     "execution_count": 68,
     "metadata": {},
     "output_type": "execute_result"
    }
   ],
   "source": [
    "u1.coins"
   ]
  },
  {
   "cell_type": "code",
   "execution_count": 69,
   "id": "f1a78ef4",
   "metadata": {},
   "outputs": [
    {
     "data": {
      "text/plain": [
       "50"
      ]
     },
     "execution_count": 69,
     "metadata": {},
     "output_type": "execute_result"
    }
   ],
   "source": [
    "u2.coins"
   ]
  },
  {
   "cell_type": "code",
   "execution_count": 78,
   "id": "7acd084f",
   "metadata": {},
   "outputs": [],
   "source": [
    "u1.play_game()"
   ]
  },
  {
   "cell_type": "code",
   "execution_count": 79,
   "id": "5cb355d9",
   "metadata": {},
   "outputs": [
    {
     "data": {
      "text/plain": [
       "150"
      ]
     },
     "execution_count": 79,
     "metadata": {},
     "output_type": "execute_result"
    }
   ],
   "source": [
    "u1.coins"
   ]
  },
  {
   "cell_type": "code",
   "execution_count": 80,
   "id": "24db8337",
   "metadata": {},
   "outputs": [],
   "source": [
    "u1.lend_coins(u2, 50)"
   ]
  },
  {
   "cell_type": "code",
   "execution_count": 81,
   "id": "3b7a1675",
   "metadata": {},
   "outputs": [
    {
     "data": {
      "text/plain": [
       "100"
      ]
     },
     "execution_count": 81,
     "metadata": {},
     "output_type": "execute_result"
    }
   ],
   "source": [
    "u1.coins"
   ]
  },
  {
   "cell_type": "code",
   "execution_count": 82,
   "id": "3f4e986e",
   "metadata": {},
   "outputs": [
    {
     "data": {
      "text/plain": [
       "100"
      ]
     },
     "execution_count": 82,
     "metadata": {},
     "output_type": "execute_result"
    }
   ],
   "source": [
    "u2.coins"
   ]
  },
  {
   "cell_type": "code",
   "execution_count": 83,
   "id": "6723b000",
   "metadata": {},
   "outputs": [],
   "source": [
    "u1.purchase_coins(1000)"
   ]
  },
  {
   "cell_type": "code",
   "execution_count": 84,
   "id": "01bb26ea",
   "metadata": {},
   "outputs": [
    {
     "data": {
      "text/plain": [
       "1100"
      ]
     },
     "execution_count": 84,
     "metadata": {},
     "output_type": "execute_result"
    }
   ],
   "source": [
    "u1.coins"
   ]
  },
  {
   "cell_type": "code",
   "execution_count": 88,
   "id": "991b535c",
   "metadata": {},
   "outputs": [],
   "source": [
    "class Anything:\n",
    "    pass"
   ]
  },
  {
   "cell_type": "code",
   "execution_count": 86,
   "id": "198d1ab1",
   "metadata": {},
   "outputs": [],
   "source": [
    "a = Anything()"
   ]
  },
  {
   "cell_type": "code",
   "execution_count": 87,
   "id": "7f7c3bf2",
   "metadata": {},
   "outputs": [
    {
     "data": {
      "text/plain": [
       "<__main__.Anything at 0x2617f0a7190>"
      ]
     },
     "execution_count": 87,
     "metadata": {},
     "output_type": "execute_result"
    }
   ],
   "source": [
    "a"
   ]
  },
  {
   "cell_type": "code",
   "execution_count": 89,
   "id": "cf07e463",
   "metadata": {},
   "outputs": [],
   "source": [
    "class Animal:\n",
    "    def make_sound(self)-> str:\n",
    "        return \"get lost\""
   ]
  },
  {
   "cell_type": "code",
   "execution_count": 90,
   "id": "f3ec1f6c",
   "metadata": {},
   "outputs": [],
   "source": [
    "a = Animal()"
   ]
  },
  {
   "cell_type": "code",
   "execution_count": 91,
   "id": "6c4979fd",
   "metadata": {},
   "outputs": [
    {
     "data": {
      "text/plain": [
       "'get lost'"
      ]
     },
     "execution_count": 91,
     "metadata": {},
     "output_type": "execute_result"
    }
   ],
   "source": [
    "a.make_sound()"
   ]
  },
  {
   "cell_type": "code",
   "execution_count": 92,
   "id": "df7f7b61",
   "metadata": {},
   "outputs": [],
   "source": [
    "class Dog(Animal):\n",
    "    pass"
   ]
  },
  {
   "cell_type": "code",
   "execution_count": 93,
   "id": "3aa28d98",
   "metadata": {},
   "outputs": [],
   "source": [
    "d = Dog()"
   ]
  },
  {
   "cell_type": "code",
   "execution_count": 94,
   "id": "40b0f6ac",
   "metadata": {},
   "outputs": [
    {
     "data": {
      "text/plain": [
       "'get lost'"
      ]
     },
     "execution_count": 94,
     "metadata": {},
     "output_type": "execute_result"
    }
   ],
   "source": [
    "d.make_sound()"
   ]
  },
  {
   "cell_type": "code",
   "execution_count": null,
   "id": "6fa2cd7c",
   "metadata": {},
   "outputs": [],
   "source": [
    "class Cat(Animal):\n",
    "    def make_sound(self):\n",
    "        #return super().make_sound()\n",
    "        return \"me......owwwww\""
   ]
  },
  {
   "cell_type": "code",
   "execution_count": 97,
   "id": "6e97b18c",
   "metadata": {},
   "outputs": [],
   "source": [
    "c = Cat()"
   ]
  },
  {
   "cell_type": "code",
   "execution_count": 98,
   "id": "20768daa",
   "metadata": {},
   "outputs": [
    {
     "data": {
      "text/plain": [
       "'me......owwwww'"
      ]
     },
     "execution_count": 98,
     "metadata": {},
     "output_type": "execute_result"
    }
   ],
   "source": [
    "c.make_sound()"
   ]
  },
  {
   "cell_type": "code",
   "execution_count": 99,
   "id": "2016848f",
   "metadata": {},
   "outputs": [],
   "source": [
    "class DBConnection:\n",
    "    def connect(self):\n",
    "        pass"
   ]
  },
  {
   "cell_type": "code",
   "execution_count": 100,
   "id": "53aa94ef",
   "metadata": {},
   "outputs": [],
   "source": [
    "class MysqlConnection(DBConnection):\n",
    "    def connect(self):\n",
    "        pass"
   ]
  },
  {
   "cell_type": "code",
   "execution_count": 101,
   "id": "3581754b",
   "metadata": {},
   "outputs": [],
   "source": [
    "class BankAccount:\n",
    "    def __init__(self, balance, account_id, rate_of_intrest):\n",
    "        self.balance = balance\n",
    "        self.account_id = account_id\n",
    "        self.rate_of_intrest = rate_of_intrest\n",
    "    def transfer(self, to, amount):\n",
    "        self.balance -= amount\n",
    "        to.balance += amount\n",
    "        \n"
   ]
  },
  {
   "cell_type": "code",
   "execution_count": 103,
   "id": "d5518c11",
   "metadata": {},
   "outputs": [],
   "source": [
    "class SavingsAccount(BankAccount):\n",
    "    def transfer(self, to, amount):\n",
    "        if amount > 50000:\n",
    "            print(\"Not possible\")\n",
    "        return super().transfer(to, amount)"
   ]
  },
  {
   "cell_type": "code",
   "execution_count": 115,
   "id": "8662f0b1",
   "metadata": {},
   "outputs": [],
   "source": [
    "class CurrentAccount(BankAccount):\n",
    "    pass\n"
   ]
  },
  {
   "cell_type": "code",
   "execution_count": 116,
   "id": "8b12c166",
   "metadata": {},
   "outputs": [],
   "source": [
    "a = SavingsAccount(balance= 100000, account_id= \"1\", rate_of_intrest= 4)\n"
   ]
  },
  {
   "cell_type": "code",
   "execution_count": 117,
   "id": "7e0b9ec4",
   "metadata": {},
   "outputs": [],
   "source": [
    "b = CurrentAccount(balance= 200000, account_id=\"2\", rate_of_intrest= 0)"
   ]
  },
  {
   "cell_type": "code",
   "execution_count": 118,
   "id": "028cd911",
   "metadata": {},
   "outputs": [
    {
     "data": {
      "text/plain": [
       "100000"
      ]
     },
     "execution_count": 118,
     "metadata": {},
     "output_type": "execute_result"
    }
   ],
   "source": [
    "a.balance"
   ]
  },
  {
   "cell_type": "code",
   "execution_count": 119,
   "id": "a84f7fb0",
   "metadata": {},
   "outputs": [],
   "source": [
    "b.transfer(a, 60000)"
   ]
  },
  {
   "cell_type": "code",
   "execution_count": 120,
   "id": "054427bd",
   "metadata": {},
   "outputs": [
    {
     "data": {
      "text/plain": [
       "160000"
      ]
     },
     "execution_count": 120,
     "metadata": {},
     "output_type": "execute_result"
    }
   ],
   "source": [
    "a.balance"
   ]
  },
  {
   "cell_type": "code",
   "execution_count": 121,
   "id": "5998dd38",
   "metadata": {},
   "outputs": [
    {
     "data": {
      "text/plain": [
       "140000"
      ]
     },
     "execution_count": 121,
     "metadata": {},
     "output_type": "execute_result"
    }
   ],
   "source": [
    "b.balance"
   ]
  },
  {
   "cell_type": "code",
   "execution_count": 123,
   "id": "01b10554",
   "metadata": {},
   "outputs": [],
   "source": [
    "a.transfer(b, 49000)"
   ]
  },
  {
   "cell_type": "code",
   "execution_count": 124,
   "id": "15ccdef9",
   "metadata": {},
   "outputs": [],
   "source": [
    "b.transfer(a, 70000)"
   ]
  },
  {
   "cell_type": "code",
   "execution_count": null,
   "id": "9608cb0a",
   "metadata": {},
   "outputs": [],
   "source": []
  },
  {
   "cell_type": "code",
   "execution_count": 126,
   "id": "81fac4fd",
   "metadata": {},
   "outputs": [
    {
     "data": {
      "text/plain": [
       "121000"
      ]
     },
     "execution_count": 126,
     "metadata": {},
     "output_type": "execute_result"
    }
   ],
   "source": [
    "a.balance"
   ]
  },
  {
   "cell_type": "code",
   "execution_count": 127,
   "id": "eb8dc8b8",
   "metadata": {},
   "outputs": [
    {
     "data": {
      "text/plain": [
       "179000"
      ]
     },
     "execution_count": 127,
     "metadata": {},
     "output_type": "execute_result"
    }
   ],
   "source": [
    "b.balance"
   ]
  },
  {
   "cell_type": "code",
   "execution_count": 128,
   "id": "149cd7f6",
   "metadata": {},
   "outputs": [],
   "source": [
    "a.transfer(b, 21000)"
   ]
  },
  {
   "cell_type": "code",
   "execution_count": 129,
   "id": "727a7d88",
   "metadata": {},
   "outputs": [
    {
     "data": {
      "text/plain": [
       "100000"
      ]
     },
     "execution_count": 129,
     "metadata": {},
     "output_type": "execute_result"
    }
   ],
   "source": [
    "a.balance"
   ]
  },
  {
   "cell_type": "code",
   "execution_count": 130,
   "id": "53a9bf8b",
   "metadata": {},
   "outputs": [
    {
     "data": {
      "text/plain": [
       "200000"
      ]
     },
     "execution_count": 130,
     "metadata": {},
     "output_type": "execute_result"
    }
   ],
   "source": [
    "b.balance"
   ]
  },
  {
   "cell_type": "code",
   "execution_count": 131,
   "id": "7f68a3a9",
   "metadata": {},
   "outputs": [],
   "source": [
    "b.transfer(a, 60000)"
   ]
  },
  {
   "cell_type": "code",
   "execution_count": 132,
   "id": "26c19162",
   "metadata": {},
   "outputs": [
    {
     "data": {
      "text/plain": [
       "140000"
      ]
     },
     "execution_count": 132,
     "metadata": {},
     "output_type": "execute_result"
    }
   ],
   "source": [
    "b.balance"
   ]
  },
  {
   "cell_type": "code",
   "execution_count": 133,
   "id": "1d8a98b1",
   "metadata": {},
   "outputs": [
    {
     "data": {
      "text/plain": [
       "160000"
      ]
     },
     "execution_count": 133,
     "metadata": {},
     "output_type": "execute_result"
    }
   ],
   "source": [
    "a.balance"
   ]
  },
  {
   "cell_type": "code",
   "execution_count": null,
   "id": "797d2151",
   "metadata": {},
   "outputs": [],
   "source": []
  }
 ],
 "metadata": {
  "kernelspec": {
   "display_name": "Python 3",
   "language": "python",
   "name": "python3"
  },
  "language_info": {
   "codemirror_mode": {
    "name": "ipython",
    "version": 3
   },
   "file_extension": ".py",
   "mimetype": "text/x-python",
   "name": "python",
   "nbconvert_exporter": "python",
   "pygments_lexer": "ipython3",
   "version": "3.11.9"
  }
 },
 "nbformat": 4,
 "nbformat_minor": 5
}
