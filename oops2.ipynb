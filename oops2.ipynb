{
 "cells": [
  {
   "cell_type": "code",
   "execution_count": null,
   "id": "052d0ef1",
   "metadata": {},
   "outputs": [],
   "source": [
    "class Engine:\n",
    "    def __init__(self, manufacturer:str):\n",
    "        self.manufacturer = manufacturer\n",
    "    def __start(self):\n",
    "        print(\"Engine started\")\n",
    "    def stop(self):\n",
    "        print(\"Engine stopped\")\n",
    "        "
   ]
  },
  {
   "cell_type": "code",
   "execution_count": null,
   "id": "429fb103",
   "metadata": {},
   "outputs": [],
   "source": [
    "class Car:\n",
    "    def __init__(self, engine:Engine):\n",
    "        self.engine:Engine = engine\n",
    "    def __start(self):\n",
    "        print(\"Battery started\")\n",
    "        self.engine.start()\n",
    "        print(\"Ac is on\")\n",
    "        "
   ]
  },
  {
   "cell_type": "code",
   "execution_count": 5,
   "id": "8eef22bc",
   "metadata": {},
   "outputs": [],
   "source": [
    "engine = Engine(\"Fiat\")\n",
    "car = Car(engine)\n"
   ]
  },
  {
   "cell_type": "code",
   "execution_count": 13,
   "id": "6efc1773",
   "metadata": {},
   "outputs": [
    {
     "name": "stdout",
     "output_type": "stream",
     "text": [
      "Battery started\n",
      "Engine started\n",
      "Ac is on\n"
     ]
    }
   ],
   "source": [
    "car.start()"
   ]
  },
  {
   "cell_type": "code",
   "execution_count": 7,
   "id": "a764a086",
   "metadata": {},
   "outputs": [],
   "source": [
    "class Bike(Engine):\n",
    "    pass"
   ]
  },
  {
   "cell_type": "code",
   "execution_count": 8,
   "id": "fb77ff2a",
   "metadata": {},
   "outputs": [],
   "source": [
    "bike = Bike(manufacturer=\"Honda\")"
   ]
  },
  {
   "cell_type": "code",
   "execution_count": 9,
   "id": "ef83d4ed",
   "metadata": {},
   "outputs": [
    {
     "data": {
      "text/plain": [
       "'Honda'"
      ]
     },
     "execution_count": 9,
     "metadata": {},
     "output_type": "execute_result"
    }
   ],
   "source": [
    "bike.manufacturer"
   ]
  },
  {
   "cell_type": "code",
   "execution_count": 14,
   "id": "62a28a1d",
   "metadata": {},
   "outputs": [
    {
     "name": "stdout",
     "output_type": "stream",
     "text": [
      "Engine started\n",
      "Engine stopped\n"
     ]
    }
   ],
   "source": [
    "bike.start()\n",
    "bike.stop()"
   ]
  },
  {
   "cell_type": "markdown",
   "id": "7e0a1db8",
   "metadata": {},
   "source": [
    "Python Encapsulation"
   ]
  },
  {
   "cell_type": "code",
   "execution_count": 35,
   "id": "97166cf5",
   "metadata": {},
   "outputs": [],
   "source": [
    "class Truck:\n",
    "    def __init__(self, engine:Engine):\n",
    "        self.engine = engine\n",
    "    def stop(self):\n",
    "        self.engine.stop()"
   ]
  },
  {
   "cell_type": "code",
   "execution_count": 38,
   "id": "2c55a235",
   "metadata": {},
   "outputs": [],
   "source": [
    "truck = Truck(engine)"
   ]
  },
  {
   "cell_type": "code",
   "execution_count": 39,
   "id": "fbe6ef0b",
   "metadata": {},
   "outputs": [
    {
     "name": "stdout",
     "output_type": "stream",
     "text": [
      "Engine stopped\n"
     ]
    }
   ],
   "source": [
    "truck.stop()"
   ]
  },
  {
   "cell_type": "code",
   "execution_count": null,
   "id": "18bbf540",
   "metadata": {},
   "outputs": [],
   "source": [
    "class BankAccount:\n",
    "    def __init__(self, name, balance):\n",
    "        self.__name = name\n",
    "        self.__balance = balance"
   ]
  },
  {
   "cell_type": "code",
   "execution_count": 53,
   "id": "efac69d0",
   "metadata": {},
   "outputs": [],
   "source": [
    "b = BankAccount(name=\"sardhar\", balance=1000000)"
   ]
  },
  {
   "cell_type": "code",
   "execution_count": 54,
   "id": "0624604e",
   "metadata": {},
   "outputs": [
    {
     "data": {
      "text/plain": [
       "1000000"
      ]
     },
     "execution_count": 54,
     "metadata": {},
     "output_type": "execute_result"
    }
   ],
   "source": [
    "b.balance"
   ]
  },
  {
   "cell_type": "code",
   "execution_count": 51,
   "id": "8ac5aefc",
   "metadata": {},
   "outputs": [
    {
     "ename": "AttributeError",
     "evalue": "'BankAccount' object has no attribute '__name'",
     "output_type": "error",
     "traceback": [
      "\u001b[31m---------------------------------------------------------------------------\u001b[39m",
      "\u001b[31mAttributeError\u001b[39m                            Traceback (most recent call last)",
      "\u001b[36mCell\u001b[39m\u001b[36m \u001b[39m\u001b[32mIn[51]\u001b[39m\u001b[32m, line 1\u001b[39m\n\u001b[32m----> \u001b[39m\u001b[32m1\u001b[39m \u001b[43mb\u001b[49m\u001b[43m.\u001b[49m\u001b[43m__name\u001b[49m\n",
      "\u001b[31mAttributeError\u001b[39m: 'BankAccount' object has no attribute '__name'"
     ]
    }
   ],
   "source": [
    "b.__name"
   ]
  },
  {
   "cell_type": "code",
   "execution_count": 58,
   "id": "a5ece762",
   "metadata": {},
   "outputs": [],
   "source": [
    "class BankAccount:\n",
    "    def __init__(self, name, balance):\n",
    "        self.__name = name\n",
    "        self.__balance = balance\n",
    "    def get_name(self):\n",
    "        return self.__name\n",
    "    def get_balance(self):\n",
    "        return self.__balance"
   ]
  },
  {
   "cell_type": "code",
   "execution_count": 60,
   "id": "80066fa9",
   "metadata": {},
   "outputs": [],
   "source": [
    "b = BankAccount(name=\"sardhar\", balance=1000000)"
   ]
  },
  {
   "cell_type": "code",
   "execution_count": 68,
   "id": "78852555",
   "metadata": {},
   "outputs": [
    {
     "ename": "AttributeError",
     "evalue": "'BankAccount' object has no attribute 'get_balance'",
     "output_type": "error",
     "traceback": [
      "\u001b[31m---------------------------------------------------------------------------\u001b[39m",
      "\u001b[31mAttributeError\u001b[39m                            Traceback (most recent call last)",
      "\u001b[36mCell\u001b[39m\u001b[36m \u001b[39m\u001b[32mIn[68]\u001b[39m\u001b[32m, line 1\u001b[39m\n\u001b[32m----> \u001b[39m\u001b[32m1\u001b[39m \u001b[43mb\u001b[49m\u001b[43m.\u001b[49m\u001b[43mget_balance\u001b[49m\n",
      "\u001b[31mAttributeError\u001b[39m: 'BankAccount' object has no attribute 'get_balance'"
     ]
    }
   ],
   "source": [
    "b.get_balance"
   ]
  },
  {
   "cell_type": "code",
   "execution_count": 62,
   "id": "25354924",
   "metadata": {},
   "outputs": [
    {
     "data": {
      "text/plain": [
       "'sardhar'"
      ]
     },
     "execution_count": 62,
     "metadata": {},
     "output_type": "execute_result"
    }
   ],
   "source": [
    "b.get_name()"
   ]
  },
  {
   "cell_type": "code",
   "execution_count": 69,
   "id": "bd435223",
   "metadata": {},
   "outputs": [],
   "source": [
    "class BankAccount:\n",
    "    def __init__(self, name, balance):\n",
    "        self.__name = name\n",
    "        self.__balance = balance\n",
    "    @property\n",
    "    def name(self):\n",
    "        return self.__name\n",
    "    @property\n",
    "    def balance(self):\n",
    "        return self.__balance\n",
    "    @balance.setter\n",
    "    def balance(self, value):\n",
    "        self.__balance = value"
   ]
  },
  {
   "cell_type": "code",
   "execution_count": 70,
   "id": "3cdf2cfe",
   "metadata": {},
   "outputs": [],
   "source": [
    "b = BankAccount(name=\"sardhar\", balance=1000000)"
   ]
  },
  {
   "cell_type": "code",
   "execution_count": 74,
   "id": "121f2033",
   "metadata": {},
   "outputs": [
    {
     "data": {
      "text/plain": [
       "'sardhar'"
      ]
     },
     "execution_count": 74,
     "metadata": {},
     "output_type": "execute_result"
    }
   ],
   "source": [
    "b.name"
   ]
  },
  {
   "cell_type": "code",
   "execution_count": 73,
   "id": "d94dbcc1",
   "metadata": {},
   "outputs": [
    {
     "data": {
      "text/plain": [
       "1000000"
      ]
     },
     "execution_count": 73,
     "metadata": {},
     "output_type": "execute_result"
    }
   ],
   "source": [
    "b.balance"
   ]
  },
  {
   "cell_type": "markdown",
   "id": "aa7a8e79",
   "metadata": {},
   "source": [
    "Polymorphism"
   ]
  },
  {
   "cell_type": "code",
   "execution_count": 85,
   "id": "932ae268",
   "metadata": {},
   "outputs": [],
   "source": [
    "class Calculator:\n",
    "    def add(a:int, b:int)-> int:\n",
    "        return a + b\n",
    "    def add(*args)-> int:\n",
    "        return sum(args)\n",
    "    \n",
    "    "
   ]
  },
  {
   "cell_type": "code",
   "execution_count": 86,
   "id": "829ea5b2",
   "metadata": {},
   "outputs": [],
   "source": [
    "def add(*args):\n",
    "    print(type(args))\n",
    "    print(sum(args))"
   ]
  },
  {
   "cell_type": "code",
   "execution_count": 87,
   "id": "d9ed8213",
   "metadata": {},
   "outputs": [
    {
     "name": "stdout",
     "output_type": "stream",
     "text": [
      "<class 'tuple'>\n",
      "9134\n"
     ]
    }
   ],
   "source": [
    "add(1,2,3,4,5,6,12,56,89,8956)"
   ]
  },
  {
   "cell_type": "code",
   "execution_count": 91,
   "id": "7953f37e",
   "metadata": {},
   "outputs": [],
   "source": [
    "def add(**kwargs):\n",
    "    print(type(kwargs))\n",
    "    print(sum(kwargs.values()))"
   ]
  },
  {
   "cell_type": "code",
   "execution_count": 92,
   "id": "57b356cc",
   "metadata": {},
   "outputs": [
    {
     "name": "stdout",
     "output_type": "stream",
     "text": [
      "<class 'dict'>\n",
      "3\n"
     ]
    }
   ],
   "source": [
    "add(a=1, b=2)"
   ]
  },
  {
   "cell_type": "code",
   "execution_count": 94,
   "id": "bd21ff78",
   "metadata": {},
   "outputs": [
    {
     "name": "stdout",
     "output_type": "stream",
     "text": [
      "<class 'dict'>\n",
      "84\n"
     ]
    }
   ],
   "source": [
    "add(a=1, b=2, c=3, d=78)"
   ]
  },
  {
   "cell_type": "code",
   "execution_count": 96,
   "id": "b11d9f18",
   "metadata": {},
   "outputs": [
    {
     "ename": "TypeError",
     "evalue": "add() got an unexpected keyword argument 'a'",
     "output_type": "error",
     "traceback": [
      "\u001b[31m---------------------------------------------------------------------------\u001b[39m",
      "\u001b[31mTypeError\u001b[39m                                 Traceback (most recent call last)",
      "\u001b[36mCell\u001b[39m\u001b[36m \u001b[39m\u001b[32mIn[96]\u001b[39m\u001b[32m, line 5\u001b[39m\n\u001b[32m      2\u001b[39m     \u001b[38;5;28mprint\u001b[39m(\u001b[38;5;28mtype\u001b[39m(args))\n\u001b[32m      3\u001b[39m     \u001b[38;5;28mprint\u001b[39m(\u001b[38;5;28msum\u001b[39m(args))\n\u001b[32m----> \u001b[39m\u001b[32m5\u001b[39m \u001b[43madd\u001b[49m\u001b[43m(\u001b[49m\u001b[43ma\u001b[49m\u001b[43m=\u001b[49m\u001b[32;43m1\u001b[39;49m\u001b[43m,\u001b[49m\u001b[43m \u001b[49m\u001b[43mb\u001b[49m\u001b[43m=\u001b[49m\u001b[32;43m2\u001b[39;49m\u001b[43m)\u001b[49m   \n",
      "\u001b[31mTypeError\u001b[39m: add() got an unexpected keyword argument 'a'"
     ]
    }
   ],
   "source": [
    "def add(*args):\n",
    "    print(type(args))\n",
    "    print(sum(args))\n",
    "\n",
    "add(a=1, b=2)   "
   ]
  },
  {
   "cell_type": "code",
   "execution_count": 97,
   "id": "bc167c33",
   "metadata": {},
   "outputs": [],
   "source": [
    "class Calculator:\n",
    "    def add(self, a:int, b:int)-> int:\n",
    "        return a + b\n",
    "    def add(slef, *args)-> int:\n",
    "        return sum(args)\n",
    "    "
   ]
  },
  {
   "cell_type": "code",
   "execution_count": 98,
   "id": "ceb5cf60",
   "metadata": {},
   "outputs": [],
   "source": [
    "c = Calculator()"
   ]
  },
  {
   "cell_type": "code",
   "execution_count": 99,
   "id": "9dbc66df",
   "metadata": {},
   "outputs": [
    {
     "data": {
      "text/plain": [
       "21"
      ]
     },
     "execution_count": 99,
     "metadata": {},
     "output_type": "execute_result"
    }
   ],
   "source": [
    "c.add(1,2,3,4,5,6)"
   ]
  },
  {
   "cell_type": "markdown",
   "id": "c588f178",
   "metadata": {},
   "source": [
    "Class Methods"
   ]
  },
  {
   "cell_type": "code",
   "execution_count": null,
   "id": "f0c3a868",
   "metadata": {},
   "outputs": [],
   "source": [
    "class Student:\n",
    "    def __init__(self,name):\n",
    "        self.name = name\n"
   ]
  },
  {
   "cell_type": "code",
   "execution_count": 134,
   "id": "e4b3472f",
   "metadata": {},
   "outputs": [],
   "source": [
    "@classmethod\n",
    "def get_institute(cls):\n",
    "    return \"QT\""
   ]
  },
  {
   "cell_type": "code",
   "execution_count": 156,
   "id": "e52567fb",
   "metadata": {},
   "outputs": [],
   "source": [
    "a = Student(name=\"a\")\n",
    "b = Student(name=\"b\")"
   ]
  },
  {
   "cell_type": "code",
   "execution_count": 146,
   "id": "c94fe7f7",
   "metadata": {},
   "outputs": [
    {
     "data": {
      "text/plain": [
       "'QT'"
      ]
     },
     "execution_count": 146,
     "metadata": {},
     "output_type": "execute_result"
    }
   ],
   "source": [
    "a.get_institute()"
   ]
  },
  {
   "cell_type": "code",
   "execution_count": 147,
   "id": "4f0bc08f",
   "metadata": {},
   "outputs": [
    {
     "data": {
      "text/plain": [
       "'QT'"
      ]
     },
     "execution_count": 147,
     "metadata": {},
     "output_type": "execute_result"
    }
   ],
   "source": [
    "b.get_institute()"
   ]
  },
  {
   "cell_type": "code",
   "execution_count": 153,
   "id": "5dbacf5e",
   "metadata": {},
   "outputs": [],
   "source": [
    "class Student:\n",
    "    institute = \"QT\"\n",
    "    def __init__(self,name):\n",
    "        self.name = name\n",
    "    @classmethod\n",
    "    def get_institute(cls):\n",
    "        return cls.institute\n",
    "    @staticmethod\n",
    "    def help():\n",
    "        print(\"Help is not available\")"
   ]
  },
  {
   "cell_type": "code",
   "execution_count": 149,
   "id": "654916e4",
   "metadata": {},
   "outputs": [],
   "source": [
    "@staticmethod\n",
    "def help():\n",
    "    print(\"Help is not available\")"
   ]
  },
  {
   "cell_type": "code",
   "execution_count": 155,
   "id": "fde4abf5",
   "metadata": {},
   "outputs": [
    {
     "name": "stdout",
     "output_type": "stream",
     "text": [
      "Help is not available\n"
     ]
    }
   ],
   "source": [
    "Student.help()"
   ]
  },
  {
   "cell_type": "code",
   "execution_count": 157,
   "id": "e178967f",
   "metadata": {},
   "outputs": [
    {
     "name": "stdout",
     "output_type": "stream",
     "text": [
      "Help is not available\n"
     ]
    }
   ],
   "source": [
    "a.help()"
   ]
  },
  {
   "cell_type": "markdown",
   "id": "b9711879",
   "metadata": {},
   "source": [
    "SOLID Principles"
   ]
  },
  {
   "cell_type": "code",
   "execution_count": null,
   "id": "b2cedaea",
   "metadata": {},
   "outputs": [],
   "source": []
  },
  {
   "cell_type": "markdown",
   "id": "44512ae6",
   "metadata": {},
   "source": [
    "### SOLID Principles\n",
    "\n",
    "* S = Single Responsible Principle\n",
    "* O = Open/close Principle\n",
    "* L = Liskov Substitution Principle\n",
    "* I = Interface Segregation Principle\n",
    "* D = Dependency Inversion Principle"
   ]
  },
  {
   "cell_type": "code",
   "execution_count": 158,
   "id": "22c173ba",
   "metadata": {},
   "outputs": [],
   "source": [
    "# Single Responsible Principle\n",
    "\n",
    "class Report:\n",
    "    def generator(self):\n",
    "        pass\n",
    "    def print(self):\n",
    "        pass\n",
    "    def save(self):\n",
    "        pass\n",
    "\n",
    "    "
   ]
  },
  {
   "cell_type": "code",
   "execution_count": null,
   "id": "8ebac117",
   "metadata": {},
   "outputs": [],
   "source": [
    "\n",
    "\n",
    "class Generate:\n",
    "    def generator(self):\n",
    "        pass\n",
    "class Saver:\n",
    "    def save(self):\n",
    "        pass\n",
    "class Printer:\n",
    "    def print(self):\n",
    "        pass\n"
   ]
  },
  {
   "cell_type": "code",
   "execution_count": null,
   "id": "457d6723",
   "metadata": {},
   "outputs": [],
   "source": [
    "# Open/ close Principle\n",
    "\n",
    "class Discount:\n",
    "    def __init__(self, user):\n",
    "        self.user = user\n",
    "    def get_discount(self):\n",
    "        if self.user.is_coustmer():\n",
    "            return 10\n",
    "        elif self.user.has_couponcode():\n",
    "            return self.user.get_coupon_discount()\n",
    "        else:\n",
    "            return 2\n",
    "        \n",
    "    "
   ]
  },
  {
   "cell_type": "code",
   "execution_count": null,
   "id": "a9d451c1",
   "metadata": {},
   "outputs": [],
   "source": [
    "class Discount:\n",
    "    def __init__(self, user):\n",
    "        self.user = user\n",
    "    def get_discount(self):\n",
    "        return self.user.get_promised_discount()\n",
    "class User:\n",
    "    def get_promised_dicount(self):\n",
    "        return 2\n",
    "class Customer(User):\n",
    "    def get_promised_dicount(self):\n",
    "        return 10\n",
    "class DiscountedUser(User):\n",
    "    def get_promised_dicount(self):\n",
    "        return 5"
   ]
  },
  {
   "cell_type": "code",
   "execution_count": 161,
   "id": "26504ecf",
   "metadata": {},
   "outputs": [],
   "source": [
    "class SmartPhone:\n",
    "    def call(self, number): pass\n",
    "    def appstore(self): pass\n",
    "    def app_install(self): pass\n",
    "    def app_uninstall(self): pass"
   ]
  },
  {
   "cell_type": "code",
   "execution_count": 162,
   "id": "422e7e7f",
   "metadata": {},
   "outputs": [],
   "source": [
    "s = SmartPhone()"
   ]
  },
  {
   "cell_type": "code",
   "execution_count": 164,
   "id": "36b7d659",
   "metadata": {},
   "outputs": [],
   "source": [
    "from abc import ABC, abstractmethod\n",
    "\n",
    "class SmartPhoneBase(ABC):\n",
    "    @abstractmethod\n",
    "    def call(self, number): pass\n",
    "    @abstractmethod\n",
    "    def appstore(self): pass\n",
    "    @abstractmethod\n",
    "    def app_install(self): pass\n",
    "    @abstractmethod\n",
    "    def app_uninstall(self): pass"
   ]
  },
  {
   "cell_type": "code",
   "execution_count": 167,
   "id": "042f07db",
   "metadata": {},
   "outputs": [
    {
     "ename": "TypeError",
     "evalue": "Can't instantiate abstract class SmartPhoneBase with abstract methods app_install, app_uninstall, appstore, call",
     "output_type": "error",
     "traceback": [
      "\u001b[31m---------------------------------------------------------------------------\u001b[39m",
      "\u001b[31mTypeError\u001b[39m                                 Traceback (most recent call last)",
      "\u001b[36mCell\u001b[39m\u001b[36m \u001b[39m\u001b[32mIn[167]\u001b[39m\u001b[32m, line 1\u001b[39m\n\u001b[32m----> \u001b[39m\u001b[32m1\u001b[39m s = \u001b[43mSmartPhoneBase\u001b[49m\u001b[43m(\u001b[49m\u001b[43m)\u001b[49m\n",
      "\u001b[31mTypeError\u001b[39m: Can't instantiate abstract class SmartPhoneBase with abstract methods app_install, app_uninstall, appstore, call"
     ]
    }
   ],
   "source": [
    "s = SmartPhoneBase()"
   ]
  },
  {
   "cell_type": "code",
   "execution_count": 191,
   "id": "696880c5",
   "metadata": {},
   "outputs": [],
   "source": [
    "class Samsung(SmartPhoneBase):\n",
    "    def call(self, number): pass\n",
    "    # how to call\n",
    "    def app_install(self): pass\n",
    "    # how to install apps\n",
    "    def app_uninstall(self): pass\n",
    "    # how to uninstall\n",
    "    def appstore(self): pass\n",
    "    def make_call(phone: SmartPhoneBase, number):\n",
    "        phone.call(number)"
   ]
  },
  {
   "cell_type": "code",
   "execution_count": 192,
   "id": "7a552559",
   "metadata": {},
   "outputs": [],
   "source": [
    "\n",
    "\n",
    "s = Samsung() "
   ]
  },
  {
   "cell_type": "code",
   "execution_count": 195,
   "id": "d6224d2e",
   "metadata": {},
   "outputs": [],
   "source": [
    "class DBConnection(ABC):\n",
    "    @abstractmethod\n",
    "    def connect(self, *args): pass\n",
    "    @abstractmethod\n",
    "    def disconnect(self, *args): pass\n",
    "    @abstractmethod\n",
    "    def exicute(self, *args): pass\n",
    "    "
   ]
  },
  {
   "cell_type": "code",
   "execution_count": null,
   "id": "2f3c4a1c",
   "metadata": {},
   "outputs": [],
   "source": [
    "class MySqlConnection(DBConnection):\n",
    "   def connect(db: DBConnection):pass"
   ]
  },
  {
   "cell_type": "code",
   "execution_count": 198,
   "id": "460cd2c1",
   "metadata": {},
   "outputs": [],
   "source": [
    "class Postgres(DBConnection):\n",
    "    def connect(cnt: DBConnection): pass\n",
    "    \n",
    "        "
   ]
  }
 ],
 "metadata": {
  "kernelspec": {
   "display_name": "Python 3",
   "language": "python",
   "name": "python3"
  },
  "language_info": {
   "codemirror_mode": {
    "name": "ipython",
    "version": 3
   },
   "file_extension": ".py",
   "mimetype": "text/x-python",
   "name": "python",
   "nbconvert_exporter": "python",
   "pygments_lexer": "ipython3",
   "version": "3.11.9"
  }
 },
 "nbformat": 4,
 "nbformat_minor": 5
}
